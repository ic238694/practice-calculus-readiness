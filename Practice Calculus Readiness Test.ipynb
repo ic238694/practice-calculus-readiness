{
 "cells": [
  {
   "cell_type": "markdown",
   "metadata": {},
   "source": [
    "#### 1. Money in a bank triples every 8 years. If \\$100 is deposited today, what will its value be after 32 years?\n",
    "\n"
   ]
  },
  {
   "cell_type": "markdown",
   "metadata": {},
   "source": [
    "$$\\$8,500 ~~~\\mbox{  }~~~ \\$8,100 ~~~\\mbox{  }~~~ \\$1,600 ~~~\\mbox{  }~~~ \\$400$$"
   ]
  },
  {
   "cell_type": "code",
   "execution_count": 8,
   "metadata": {},
   "outputs": [
    {
     "name": "stdout",
     "output_type": "stream",
     "text": [
      "8100.0\n"
     ]
    }
   ],
   "source": [
    "Y = 32\n",
    "T = 8\n",
    "n = Y/T\n",
    "P = 100\n",
    "M = P * 3**n\n",
    "print(M)"
   ]
  },
  {
   "cell_type": "markdown",
   "metadata": {},
   "source": [
    "#### 2. The y-coordinate of the point of intersection of the graph of\n",
    "$$−x + 4y = −50 \\mbox{ and } x + y = 20$$\n",
    "#### is\n",
    "$$6 ~~~\\mbox{  }~~~ 0 ~~~\\mbox{  }~~~ -14 ~~~\\mbox{  }~~~ -6$$"
   ]
  },
  {
   "cell_type": "markdown",
   "metadata": {},
   "source": [
    "#### Solution"
   ]
  },
  {
   "cell_type": "markdown",
   "metadata": {},
   "source": [
    "$$\n",
    " \\left\\{ \\begin{array}{rl}\n",
    " -x + 4y &=& -50 &\\mbox{ and } \\\\\n",
    "  x + y &=& 20 & \n",
    "       \\end{array} \\right.\n",
    "$$\n",
    "\n",
    "$$\n",
    " (-x + 4y) + (x + y) = -50 + 20 \n",
    " \\implies 5y = -30\n",
    " \\implies y = -6\n",
    "$$"
   ]
  },
  {
   "cell_type": "code",
   "execution_count": null,
   "metadata": {
    "collapsed": true
   },
   "outputs": [],
   "source": []
  }
 ],
 "metadata": {
  "kernelspec": {
   "display_name": "Python 3",
   "language": "python",
   "name": "python3"
  },
  "language_info": {
   "codemirror_mode": {
    "name": "ipython",
    "version": 3
   },
   "file_extension": ".py",
   "mimetype": "text/x-python",
   "name": "python",
   "nbconvert_exporter": "python",
   "pygments_lexer": "ipython3",
   "version": "3.6.2"
  }
 },
 "nbformat": 4,
 "nbformat_minor": 2
}
